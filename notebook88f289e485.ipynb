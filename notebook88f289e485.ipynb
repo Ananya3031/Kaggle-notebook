{
  "metadata": {
    "kernelspec": {
      "language": "python",
      "display_name": "Python 3",
      "name": "python3"
    },
    "language_info": {
      "name": "python",
      "version": "3.10.14",
      "mimetype": "text/x-python",
      "codemirror_mode": {
        "name": "ipython",
        "version": 3
      },
      "pygments_lexer": "ipython3",
      "nbconvert_exporter": "python",
      "file_extension": ".py"
    },
    "kaggle": {
      "accelerator": "none",
      "dataSources": [],
      "dockerImageVersionId": 30786,
      "isInternetEnabled": false,
      "language": "python",
      "sourceType": "notebook",
      "isGpuEnabled": false
    },
    "colab": {
      "name": "notebook88f289e485",
      "provenance": [],
      "include_colab_link": true
    }
  },
  "nbformat_minor": 0,
  "nbformat": 4,
  "cells": [
    {
      "cell_type": "markdown",
      "metadata": {
        "id": "view-in-github",
        "colab_type": "text"
      },
      "source": [
        "<a href=\"https://colab.research.google.com/github/Ananya3031/Kaggle-notebook/blob/main/notebook88f289e485.ipynb\" target=\"_parent\"><img src=\"https://colab.research.google.com/assets/colab-badge.svg\" alt=\"Open In Colab\"/></a>"
      ]
    },
    {
      "cell_type": "code",
      "source": [
        "# Function to sum two numbers\n",
        "def sum_of_two_numbers(num1, num2):\n",
        "    return num1 + num2\n",
        "\n",
        "# Main program\n",
        "if __name__ == \"__main__\":\n",
        "    # Input: Get two numbers from the user\n",
        "    try:\n",
        "        number1 = float(input(\"Enter the first number: \"))\n",
        "        number2 = float(input(\"Enter the second number: \"))\n",
        "\n",
        "        # Calculate the sum\n",
        "        result = sum_of_two_numbers(number1, number2)\n",
        "\n",
        "        # Output: Display the result\n",
        "        print(f\"The sum of {number1} and {number2} is: {result}\")\n",
        "    except ValueError:\n",
        "        print(\"Please enter valid numbers.\")"
      ],
      "metadata": {
        "trusted": true,
        "execution": {
          "iopub.status.busy": "2024-11-22T12:08:52.261386Z",
          "iopub.execute_input": "2024-11-22T12:08:52.261768Z",
          "iopub.status.idle": "2024-11-22T12:09:13.046232Z",
          "shell.execute_reply.started": "2024-11-22T12:08:52.261724Z",
          "shell.execute_reply": "2024-11-22T12:09:13.044971Z"
        },
        "id": "U1f4YmXzn_8Y"
      },
      "outputs": [],
      "execution_count": null
    }
  ]
}